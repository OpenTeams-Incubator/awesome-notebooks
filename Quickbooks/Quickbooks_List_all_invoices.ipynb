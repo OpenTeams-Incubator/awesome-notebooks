{
 "cells": [
  {
   "cell_type": "markdown",
   "id": "f2a47dd5-bd4b-40ae-807a-33733f54526c",
   "metadata": {
    "papermill": {},
    "tags": []
   },
   "source": [
    "<img width=\"10%\" alt=\"Naas\" src=\"https://landen.imgix.net/jtci2pxwjczr/assets/5ice39g4.png?w=160\"/>"
   ]
  },
  {
   "cell_type": "markdown",
   "id": "7b1332f0-6461-48ed-937b-d596e7355431",
   "metadata": {
    "papermill": {},
    "tags": []
   },
   "source": [
    "# Quickbooks - List all invoices\n",
    "<a href=\"https://app.naas.ai/user-redirect/naas/downloader?url=https://raw.githubusercontent.com/jupyter-naas/awesome-notebooks/master/Harvest/Harvest_Filtered_time_entries.ipynb\" target=\"_parent\"><img src=\"https://naasai-public.s3.eu-west-3.amazonaws.com/Open_in_Naas_Lab.svg\"/></a><br><br><a href=\"https://bit.ly/3JyWIk6\">Give Feedbacks</a> | <a href=\"https://github.com/jupyter-naas/awesome-notebooks/issues/new?assignees=&labels=bug&template=bug_report.md&title=Harvest+-+Get+Filtered+List+of+Time+Entries:+Error+short+description\">Bug report</a>"
   ]
  },
  {
   "cell_type": "markdown",
   "id": "798bab33-186a-4734-a231-29d04ee4bf74",
   "metadata": {
    "papermill": {},
    "tags": []
   },
   "source": [
    "**Tags:** #quickbooks #invoice #api #list #python #get"
   ]
  },
  {
   "cell_type": "markdown",
   "id": "7f10c96e-15a4-4ad0-8d3f-986439cd148f",
   "metadata": {
    "papermill": {},
    "tags": []
   },
   "source": [
    "**Author:** [Landry Christensen](https://github.com/lchristensen6)"
   ]
  },
  {
   "cell_type": "markdown",
   "id": "f60cad1d-8350-41e9-b82b-46282a3bf075",
   "metadata": {
    "papermill": {},
    "tags": []
   },
   "source": [
    "**Last update:** 2023-09-03 (Created: 2023-09-03)"
   ]
  },
  {
   "cell_type": "markdown",
   "id": "fb7805d7-e41b-45a3-a8e0-531d6310b4e3",
   "metadata": {
    "papermill": {},
    "tags": []
   },
   "source": [
    "**Description:** This notebook will list all invoices from the Quickbooks API. An Invoice represents a sales form where the customer pays for a product or service later."
   ]
  },
  {
   "cell_type": "markdown",
   "id": "ab0b9e99-1655-4e11-a2c9-bbb4e391a4d6",
   "metadata": {
    "papermill": {},
    "tags": []
   },
   "source": [
    "**References:**\n",
    "- [Quickbooks API Reference](https://developer.intuit.com/app/developer/qbo/docs/api/accounting/all-entities/account)"
   ]
  },
  {
   "cell_type": "markdown",
   "id": "c13b8aad-48a0-4802-9179-d98608369f46",
   "metadata": {
    "papermill": {},
    "tags": []
   },
   "source": [
    "## Input"
   ]
  },
  {
   "cell_type": "markdown",
   "id": "4092d0fe-1091-4865-8047-107dce67f67a",
   "metadata": {
    "papermill": {},
    "tags": []
   },
   "source": [
    "### Import libraries"
   ]
  },
  {
   "cell_type": "code",
   "execution_count": 1,
   "id": "0be5433a-7621-427c-87e3-a23cde697521",
   "metadata": {
    "execution": {
     "iopub.execute_input": "2023-09-02T21:53:05.812992Z",
     "iopub.status.busy": "2023-09-02T21:53:05.812433Z",
     "iopub.status.idle": "2023-09-02T21:53:07.660238Z",
     "shell.execute_reply": "2023-09-02T21:53:07.659403Z",
     "shell.execute_reply.started": "2023-09-02T21:53:05.812839Z"
    },
    "papermill": {},
    "tags": []
   },
   "outputs": [],
   "source": [
    "import requests\n",
    "import pandas as pd\n",
    "import naas\n",
    "\n",
    "try:\n",
    "    from intuitlib.client import AuthClient\n",
    "    from intuitlib.enums import Scopes\n",
    "except: \n",
    "    !pip install intuit-oauth --user\n",
    "    from intuitlib.client import AuthClient\n",
    "    from intuitlib.enums import Scopes"
   ]
  },
  {
   "cell_type": "markdown",
   "id": "c9a72c9a-516c-4cf6-9229-356ce62bd494",
   "metadata": {
    "papermill": {},
    "tags": []
   },
   "source": [
    "### Setup Variables\n",
    "\n",
    "[Create your Quickbooks app and company](https://developer.intuit.com/app/developer/qbo/docs/get-started/start-developing-your-app)<br>\n",
    "[Create your personnal access tokens](https://developer.intuit.com/app/developer/playground)\n",
    "- `client_id`: Client ID from Quickbooks app\n",
    "- `client_secret`: Client Secret from Quickbooks app\n",
    "- `company_id`: Company id from the Quickbooks company you want to access\n",
    "- `refresh_token`: Generated refresh token to access the Quickbooks API\n",
    "- `environment`: Environment of your Quickbooks company (`sandbox` or `production`)\n",
    "- `limit`: Entries limit, to get all entries enter `None`"
   ]
  },
  {
   "cell_type": "code",
   "execution_count": 28,
   "id": "1146059a-d69a-46c6-877f-3b64cb3844b4",
   "metadata": {
    "execution": {
     "iopub.execute_input": "2023-09-02T22:11:29.046635Z",
     "iopub.status.busy": "2023-09-02T22:11:29.046386Z",
     "iopub.status.idle": "2023-09-02T22:11:29.596267Z",
     "shell.execute_reply": "2023-09-02T22:11:29.595655Z",
     "shell.execute_reply.started": "2023-09-02T22:11:29.046608Z"
    },
    "papermill": {},
    "tags": []
   },
   "outputs": [],
   "source": [
    "client_id = naas.secret.get(\"QUICKBOOKS_CLIENT_ID\") or \"YOUR_QUICKBOOKS_CLIENT_ID\"\n",
    "client_secret = naas.secret.get(\"QUICKBOOKS_CLIENT_SECRET\") or \"YOUR_QUICKBOOKS_CLIENT_SECRET\"\n",
    "company_id = naas.secret.get(\"QUICKBOOKS_COMPANY_ID\") or \"YOUR_QUICKBOOKS_COMPANY_ID\"\n",
    "refresh_token = naas.secret.get(\"QUICKBOOKS_REFRESH_TOKEN\") or \"YOUR_QUICKBOOKS_REFRESH_TOKEN\"\n",
    "environment = \"sandbox\"\n",
    "limit = None"
   ]
  },
  {
   "cell_type": "code",
   "execution_count": 25,
   "id": "12f623bd-304d-47fb-8364-d02011b0cb82",
   "metadata": {
    "execution": {
     "iopub.execute_input": "2023-09-02T22:06:59.912903Z",
     "iopub.status.busy": "2023-09-02T22:06:59.912704Z",
     "iopub.status.idle": "2023-09-02T22:07:01.157847Z",
     "shell.execute_reply": "2023-09-02T22:07:01.157255Z",
     "shell.execute_reply.started": "2023-09-02T22:06:59.912881Z"
    },
    "tags": []
   },
   "outputs": [],
   "source": [
    "auth_client = AuthClient(\n",
    "    client_id,\n",
    "    client_secret,\n",
    "    'https://developer.intuit.com/v2/OAuth2Playground/RedirectUrl',\n",
    "    environment, # sandbox or production\n",
    ")\n",
    "\n",
    "auth_client.refresh(refresh_token=refresh_token)"
   ]
  },
  {
   "cell_type": "markdown",
   "id": "b6e5afde-6a5b-4813-a4a9-280c34b68790",
   "metadata": {
    "papermill": {},
    "tags": []
   },
   "source": [
    "## Model"
   ]
  },
  {
   "cell_type": "markdown",
   "id": "18b5d596-5730-4755-acd0-bf83f9da5dcf",
   "metadata": {
    "papermill": {},
    "tags": []
   },
   "source": [
    "### List all invoices"
   ]
  },
  {
   "cell_type": "markdown",
   "id": "2bf3c5e8-1072-4c54-898a-7f5aa6cb9f40",
   "metadata": {
    "papermill": {},
    "tags": []
   },
   "source": [
    "This function will list all invoices from the Quickbooks API"
   ]
  },
  {
   "cell_type": "code",
   "execution_count": 26,
   "id": "3044b9c3-2ae0-432b-9227-24ed5d08c1d5",
   "metadata": {
    "execution": {
     "iopub.execute_input": "2023-09-02T22:07:04.369131Z",
     "iopub.status.busy": "2023-09-02T22:07:04.368866Z",
     "iopub.status.idle": "2023-09-02T22:07:04.379484Z",
     "shell.execute_reply": "2023-09-02T22:07:04.378754Z",
     "shell.execute_reply.started": "2023-09-02T22:07:04.369107Z"
    },
    "papermill": {},
    "tags": []
   },
   "outputs": [],
   "source": [
    "# Flatten the nested dict\n",
    "def flatten_dict(d, parent_key='', sep='/', num = ''):\n",
    "    \"\"\"\n",
    "    Flattens a nested dictionary into a single level dictionary.\n",
    "\n",
    "    Args:\n",
    "        d (dict): A nested dictionary.\n",
    "        parent_key (str): Optional string to prefix the keys with.\n",
    "        sep (str): Optional separator to use between parent_key and child_key.\n",
    "\n",
    "    Returns:\n",
    "        dict: A flattened dictionary.\n",
    "    \"\"\"\n",
    "    items = []\n",
    "    for k, v in d.items():\n",
    "        new_key = f\"{parent_key}{num}{sep}{k}\" if parent_key else k\n",
    "        if isinstance(v, dict):\n",
    "            items.extend(flatten_dict(v, new_key, sep=sep, num='').items())\n",
    "        elif isinstance(v, list):\n",
    "            for i in range(len(v)):\n",
    "                items.extend(flatten_dict(v[i], new_key, sep=sep, num= \"_\" + str(i + 1) ).items())\n",
    "        else:\n",
    "            items.append((new_key, v))\n",
    "    return dict(items)\n",
    "\n",
    "def list_invoices(access_token, company_id, limit=None):\n",
    "    \n",
    "    # Init\n",
    "    data = []\n",
    "    df = pd.DataFrame()\n",
    "    maxresults = ''\n",
    "    \n",
    "    # Requests\n",
    "    if limit:\n",
    "        maxresults = f\"maxresults {limit}\"\n",
    "    query = f\"select * from invoice startposition 1 {maxresults}\"\n",
    "    url = f'https://sandbox-quickbooks.api.intuit.com/v3/company/{company_id}/query?query={query}'\n",
    "    \n",
    "    headers = {\n",
    "        \"Authorization\": f\"Bearer {access_token}\",\n",
    "        \"Accept\": \"application/json\",\n",
    "        \"Content-Type\": \"application/text\",\n",
    "    }\n",
    "\n",
    "    res = requests.get(url, headers=headers)\n",
    "    if res.status_code == 200:\n",
    "        res_json = res.json()\n",
    "        queryResponse = res_json.get('QueryResponse')\n",
    "        invoices = queryResponse.get(\"Invoice\")\n",
    "\n",
    "        for invoice in invoices:\n",
    "            data.append(flatten_dict(invoice))\n",
    "\n",
    "    df = pd.DataFrame(data)\n",
    "    return df"
   ]
  },
  {
   "cell_type": "markdown",
   "id": "9fd9975b-2db5-4c00-916b-0e08f32d1668",
   "metadata": {
    "papermill": {},
    "tags": []
   },
   "source": [
    "## Output"
   ]
  },
  {
   "cell_type": "markdown",
   "id": "536197c4-3909-4b5e-a87f-346d07c32308",
   "metadata": {
    "papermill": {},
    "tags": []
   },
   "source": [
    "### Display result"
   ]
  },
  {
   "cell_type": "code",
   "execution_count": 27,
   "id": "f312a847-d9e6-4481-aca9-61ada7f96fe4",
   "metadata": {
    "execution": {
     "iopub.execute_input": "2023-09-02T22:07:06.533120Z",
     "iopub.status.busy": "2023-09-02T22:07:06.532791Z",
     "iopub.status.idle": "2023-09-02T22:07:07.633226Z",
     "shell.execute_reply": "2023-09-02T22:07:07.632634Z",
     "shell.execute_reply.started": "2023-09-02T22:07:06.533085Z"
    },
    "papermill": {},
    "tags": []
   },
   "outputs": [
    {
     "name": "stdout",
     "output_type": "stream",
     "text": [
      "Row fetched: 31\n"
     ]
    },
    {
     "data": {
      "text/html": [
       "<div>\n",
       "<style scoped>\n",
       "    .dataframe tbody tr th:only-of-type {\n",
       "        vertical-align: middle;\n",
       "    }\n",
       "\n",
       "    .dataframe tbody tr th {\n",
       "        vertical-align: top;\n",
       "    }\n",
       "\n",
       "    .dataframe thead th {\n",
       "        text-align: right;\n",
       "    }\n",
       "</style>\n",
       "<table border=\"1\" class=\"dataframe\">\n",
       "  <thead>\n",
       "    <tr style=\"text-align: right;\">\n",
       "      <th></th>\n",
       "      <th>AllowIPNPayment</th>\n",
       "      <th>AllowOnlinePayment</th>\n",
       "      <th>AllowOnlineCreditCardPayment</th>\n",
       "      <th>AllowOnlineACHPayment</th>\n",
       "      <th>domain</th>\n",
       "      <th>sparse</th>\n",
       "      <th>Id</th>\n",
       "      <th>SyncToken</th>\n",
       "      <th>MetaData/CreateTime</th>\n",
       "      <th>MetaData/LastUpdatedTime</th>\n",
       "      <th>...</th>\n",
       "      <th>Line_4/LinkedTxn_1/TxnId</th>\n",
       "      <th>Line_4/LinkedTxn_1/TxnType</th>\n",
       "      <th>Line_6/DiscountLineDetail/PercentBased</th>\n",
       "      <th>Line_6/DiscountLineDetail/DiscountPercent</th>\n",
       "      <th>Line_6/DiscountLineDetail/DiscountAccountRef/value</th>\n",
       "      <th>Line_6/DiscountLineDetail/DiscountAccountRef/name</th>\n",
       "      <th>Line_4/DiscountLineDetail/PercentBased</th>\n",
       "      <th>Line_4/DiscountLineDetail/DiscountPercent</th>\n",
       "      <th>Line_4/DiscountLineDetail/DiscountAccountRef/value</th>\n",
       "      <th>Line_4/DiscountLineDetail/DiscountAccountRef/name</th>\n",
       "    </tr>\n",
       "  </thead>\n",
       "  <tbody>\n",
       "    <tr>\n",
       "      <th>0</th>\n",
       "      <td>False</td>\n",
       "      <td>False</td>\n",
       "      <td>False</td>\n",
       "      <td>False</td>\n",
       "      <td>QBO</td>\n",
       "      <td>False</td>\n",
       "      <td>130</td>\n",
       "      <td>0</td>\n",
       "      <td>2023-07-13T13:16:17-07:00</td>\n",
       "      <td>2023-07-13T13:16:17-07:00</td>\n",
       "      <td>...</td>\n",
       "      <td>NaN</td>\n",
       "      <td>NaN</td>\n",
       "      <td>NaN</td>\n",
       "      <td>NaN</td>\n",
       "      <td>NaN</td>\n",
       "      <td>NaN</td>\n",
       "      <td>NaN</td>\n",
       "      <td>NaN</td>\n",
       "      <td>NaN</td>\n",
       "      <td>NaN</td>\n",
       "    </tr>\n",
       "    <tr>\n",
       "      <th>1</th>\n",
       "      <td>False</td>\n",
       "      <td>False</td>\n",
       "      <td>False</td>\n",
       "      <td>False</td>\n",
       "      <td>QBO</td>\n",
       "      <td>False</td>\n",
       "      <td>129</td>\n",
       "      <td>0</td>\n",
       "      <td>2023-07-13T13:15:36-07:00</td>\n",
       "      <td>2023-07-13T13:15:36-07:00</td>\n",
       "      <td>...</td>\n",
       "      <td>NaN</td>\n",
       "      <td>NaN</td>\n",
       "      <td>NaN</td>\n",
       "      <td>NaN</td>\n",
       "      <td>NaN</td>\n",
       "      <td>NaN</td>\n",
       "      <td>NaN</td>\n",
       "      <td>NaN</td>\n",
       "      <td>NaN</td>\n",
       "      <td>NaN</td>\n",
       "    </tr>\n",
       "    <tr>\n",
       "      <th>2</th>\n",
       "      <td>False</td>\n",
       "      <td>False</td>\n",
       "      <td>False</td>\n",
       "      <td>False</td>\n",
       "      <td>QBO</td>\n",
       "      <td>False</td>\n",
       "      <td>96</td>\n",
       "      <td>1</td>\n",
       "      <td>2023-07-12T13:30:49-07:00</td>\n",
       "      <td>2023-07-13T13:13:33-07:00</td>\n",
       "      <td>...</td>\n",
       "      <td>NaN</td>\n",
       "      <td>NaN</td>\n",
       "      <td>NaN</td>\n",
       "      <td>NaN</td>\n",
       "      <td>NaN</td>\n",
       "      <td>NaN</td>\n",
       "      <td>NaN</td>\n",
       "      <td>NaN</td>\n",
       "      <td>NaN</td>\n",
       "      <td>NaN</td>\n",
       "    </tr>\n",
       "    <tr>\n",
       "      <th>3</th>\n",
       "      <td>False</td>\n",
       "      <td>False</td>\n",
       "      <td>False</td>\n",
       "      <td>False</td>\n",
       "      <td>QBO</td>\n",
       "      <td>False</td>\n",
       "      <td>12</td>\n",
       "      <td>3</td>\n",
       "      <td>2023-07-10T15:04:04-07:00</td>\n",
       "      <td>2023-07-13T12:59:21-07:00</td>\n",
       "      <td>...</td>\n",
       "      <td>NaN</td>\n",
       "      <td>NaN</td>\n",
       "      <td>NaN</td>\n",
       "      <td>NaN</td>\n",
       "      <td>NaN</td>\n",
       "      <td>NaN</td>\n",
       "      <td>NaN</td>\n",
       "      <td>NaN</td>\n",
       "      <td>NaN</td>\n",
       "      <td>NaN</td>\n",
       "    </tr>\n",
       "    <tr>\n",
       "      <th>4</th>\n",
       "      <td>False</td>\n",
       "      <td>False</td>\n",
       "      <td>False</td>\n",
       "      <td>False</td>\n",
       "      <td>QBO</td>\n",
       "      <td>False</td>\n",
       "      <td>119</td>\n",
       "      <td>0</td>\n",
       "      <td>2023-07-13T12:57:24-07:00</td>\n",
       "      <td>2023-07-13T12:57:24-07:00</td>\n",
       "      <td>...</td>\n",
       "      <td>NaN</td>\n",
       "      <td>NaN</td>\n",
       "      <td>NaN</td>\n",
       "      <td>NaN</td>\n",
       "      <td>NaN</td>\n",
       "      <td>NaN</td>\n",
       "      <td>NaN</td>\n",
       "      <td>NaN</td>\n",
       "      <td>NaN</td>\n",
       "      <td>NaN</td>\n",
       "    </tr>\n",
       "  </tbody>\n",
       "</table>\n",
       "<p>5 rows × 134 columns</p>\n",
       "</div>"
      ],
      "text/plain": [
       "   AllowIPNPayment  AllowOnlinePayment  AllowOnlineCreditCardPayment  \\\n",
       "0            False               False                         False   \n",
       "1            False               False                         False   \n",
       "2            False               False                         False   \n",
       "3            False               False                         False   \n",
       "4            False               False                         False   \n",
       "\n",
       "   AllowOnlineACHPayment domain  sparse   Id SyncToken  \\\n",
       "0                  False    QBO   False  130         0   \n",
       "1                  False    QBO   False  129         0   \n",
       "2                  False    QBO   False   96         1   \n",
       "3                  False    QBO   False   12         3   \n",
       "4                  False    QBO   False  119         0   \n",
       "\n",
       "         MetaData/CreateTime   MetaData/LastUpdatedTime  ...  \\\n",
       "0  2023-07-13T13:16:17-07:00  2023-07-13T13:16:17-07:00  ...   \n",
       "1  2023-07-13T13:15:36-07:00  2023-07-13T13:15:36-07:00  ...   \n",
       "2  2023-07-12T13:30:49-07:00  2023-07-13T13:13:33-07:00  ...   \n",
       "3  2023-07-10T15:04:04-07:00  2023-07-13T12:59:21-07:00  ...   \n",
       "4  2023-07-13T12:57:24-07:00  2023-07-13T12:57:24-07:00  ...   \n",
       "\n",
       "  Line_4/LinkedTxn_1/TxnId Line_4/LinkedTxn_1/TxnType  \\\n",
       "0                      NaN                        NaN   \n",
       "1                      NaN                        NaN   \n",
       "2                      NaN                        NaN   \n",
       "3                      NaN                        NaN   \n",
       "4                      NaN                        NaN   \n",
       "\n",
       "  Line_6/DiscountLineDetail/PercentBased  \\\n",
       "0                                    NaN   \n",
       "1                                    NaN   \n",
       "2                                    NaN   \n",
       "3                                    NaN   \n",
       "4                                    NaN   \n",
       "\n",
       "  Line_6/DiscountLineDetail/DiscountPercent  \\\n",
       "0                                       NaN   \n",
       "1                                       NaN   \n",
       "2                                       NaN   \n",
       "3                                       NaN   \n",
       "4                                       NaN   \n",
       "\n",
       "  Line_6/DiscountLineDetail/DiscountAccountRef/value  \\\n",
       "0                                                NaN   \n",
       "1                                                NaN   \n",
       "2                                                NaN   \n",
       "3                                                NaN   \n",
       "4                                                NaN   \n",
       "\n",
       "  Line_6/DiscountLineDetail/DiscountAccountRef/name  \\\n",
       "0                                               NaN   \n",
       "1                                               NaN   \n",
       "2                                               NaN   \n",
       "3                                               NaN   \n",
       "4                                               NaN   \n",
       "\n",
       "  Line_4/DiscountLineDetail/PercentBased  \\\n",
       "0                                    NaN   \n",
       "1                                    NaN   \n",
       "2                                    NaN   \n",
       "3                                    NaN   \n",
       "4                                    NaN   \n",
       "\n",
       "  Line_4/DiscountLineDetail/DiscountPercent  \\\n",
       "0                                       NaN   \n",
       "1                                       NaN   \n",
       "2                                       NaN   \n",
       "3                                       NaN   \n",
       "4                                       NaN   \n",
       "\n",
       "  Line_4/DiscountLineDetail/DiscountAccountRef/value  \\\n",
       "0                                                NaN   \n",
       "1                                                NaN   \n",
       "2                                                NaN   \n",
       "3                                                NaN   \n",
       "4                                                NaN   \n",
       "\n",
       "  Line_4/DiscountLineDetail/DiscountAccountRef/name  \n",
       "0                                               NaN  \n",
       "1                                               NaN  \n",
       "2                                               NaN  \n",
       "3                                               NaN  \n",
       "4                                               NaN  \n",
       "\n",
       "[5 rows x 134 columns]"
      ]
     },
     "execution_count": 27,
     "metadata": {},
     "output_type": "execute_result"
    }
   ],
   "source": [
    "df_invoices = list_invoices(\n",
    "    auth_client.access_token, \n",
    "    company_id, limit=limit\n",
    ")\n",
    "\n",
    "print(\"Row fetched:\", len(df_invoices))\n",
    "df_invoices.head()"
   ]
  },
  {
   "cell_type": "markdown",
   "id": "e2e7f2ab-673e-4c60-ab0a-7c1f6f09c2dc",
   "metadata": {
    "papermill": {},
    "tags": []
   },
   "source": [
    " "
   ]
  },
  {
   "cell_type": "code",
   "execution_count": null,
   "id": "9d99f3d4-849d-4383-8577-df8424516818",
   "metadata": {
    "papermill": {},
    "tags": []
   },
   "outputs": [],
   "source": []
  }
 ],
 "metadata": {
  "kernelspec": {
   "display_name": "Python 3",
   "language": "python",
   "name": "python3"
  },
  "language_info": {
   "codemirror_mode": {
    "name": "ipython",
    "version": 3
   },
   "file_extension": ".py",
   "mimetype": "text/x-python",
   "name": "python",
   "nbconvert_exporter": "python",
   "pygments_lexer": "ipython3",
   "version": "3.9.6"
  },
  "naas": {
   "notebook_id": "dbd059d8bc4a12b38bd1d41128de9f4b6610c0048c178f8d96b57bb1d852f5b0",
   "notebook_path": "Harvest/Harvest_Filtered_time_entries.ipynb"
  },
  "papermill": {
   "default_parameters": {},
   "environment_variables": {},
   "parameters": {},
   "version": "2.4.0"
  },
  "widgets": {
   "application/vnd.jupyter.widget-state+json": {
    "state": {},
    "version_major": 2,
    "version_minor": 0
   }
  }
 },
 "nbformat": 4,
 "nbformat_minor": 5
}
