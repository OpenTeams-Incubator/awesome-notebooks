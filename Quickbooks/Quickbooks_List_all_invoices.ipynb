{
 "cells": [
  {
   "cell_type": "markdown",
   "id": "f2a47dd5-bd4b-40ae-807a-33733f54526c",
   "metadata": {
    "papermill": {},
    "tags": []
   },
   "source": [
    "<img width=\"10%\" alt=\"Naas\" src=\"https://landen.imgix.net/jtci2pxwjczr/assets/5ice39g4.png?w=160\"/>"
   ]
  },
  {
   "cell_type": "markdown",
   "id": "7b1332f0-6461-48ed-937b-d596e7355431",
   "metadata": {
    "papermill": {},
    "tags": []
   },
   "source": [
    "# Quickbooks - List all invoices\n",
    "<a href=\"https://app.naas.ai/user-redirect/naas/downloader?url=https://raw.githubusercontent.com/jupyter-naas/awesome-notebooks/master/Harvest/Harvest_Filtered_time_entries.ipynb\" target=\"_parent\"><img src=\"https://naasai-public.s3.eu-west-3.amazonaws.com/Open_in_Naas_Lab.svg\"/></a><br><br><a href=\"https://bit.ly/3JyWIk6\">Give Feedbacks</a> | <a href=\"https://github.com/jupyter-naas/awesome-notebooks/issues/new?assignees=&labels=bug&template=bug_report.md&title=Harvest+-+Get+Filtered+List+of+Time+Entries:+Error+short+description\">Bug report</a>"
   ]
  },
  {
   "cell_type": "markdown",
   "id": "798bab33-186a-4734-a231-29d04ee4bf74",
   "metadata": {
    "papermill": {},
    "tags": []
   },
   "source": [
    "**Tags:** #quickbooks #invoice #api #list #python #get"
   ]
  },
  {
   "cell_type": "markdown",
   "id": "7f10c96e-15a4-4ad0-8d3f-986439cd148f",
   "metadata": {
    "papermill": {},
    "tags": []
   },
   "source": [
    "**Author:** [Landry Christensen](https://github.com/lchristensen6)"
   ]
  },
  {
   "cell_type": "markdown",
   "id": "f60cad1d-8350-41e9-b82b-46282a3bf075",
   "metadata": {
    "papermill": {},
    "tags": []
   },
   "source": [
    "**Last update:** 2023-09-03 (Created: 2023-09-03)"
   ]
  },
  {
   "cell_type": "markdown",
   "id": "fb7805d7-e41b-45a3-a8e0-531d6310b4e3",
   "metadata": {
    "papermill": {},
    "tags": []
   },
   "source": [
    "**Description:** This notebook will list all invoices from the Quickbooks API. An Invoice represents a sales form where the customer pays for a product or service later."
   ]
  },
  {
   "cell_type": "markdown",
   "id": "ab0b9e99-1655-4e11-a2c9-bbb4e391a4d6",
   "metadata": {
    "papermill": {},
    "tags": []
   },
   "source": [
    "**References:**\n",
    "- [Quickbooks API Reference](https://developer.intuit.com/app/developer/qbo/docs/api/accounting/all-entities/account)"
   ]
  },
  {
   "cell_type": "markdown",
   "id": "c13b8aad-48a0-4802-9179-d98608369f46",
   "metadata": {
    "papermill": {},
    "tags": []
   },
   "source": [
    "## Input"
   ]
  },
  {
   "cell_type": "markdown",
   "id": "4092d0fe-1091-4865-8047-107dce67f67a",
   "metadata": {
    "papermill": {},
    "tags": []
   },
   "source": [
    "### Import libraries"
   ]
  },
  {
   "cell_type": "code",
   "execution_count": 1,
   "id": "0be5433a-7621-427c-87e3-a23cde697521",
   "metadata": {
    "execution": {
     "iopub.execute_input": "2023-09-05T20:06:28.841540Z",
     "iopub.status.busy": "2023-09-05T20:06:28.841173Z",
     "iopub.status.idle": "2023-09-05T20:06:30.926174Z",
     "shell.execute_reply": "2023-09-05T20:06:30.925333Z",
     "shell.execute_reply.started": "2023-09-05T20:06:28.841397Z"
    },
    "papermill": {},
    "tags": []
   },
   "outputs": [],
   "source": [
    "import requests\n",
    "import pandas as pd\n",
    "import naas\n",
    "\n",
    "try:\n",
    "    from intuitlib.client import AuthClient\n",
    "    from intuitlib.enums import Scopes\n",
    "except: \n",
    "    !pip install intuit-oauth --user\n",
    "    from intuitlib.client import AuthClient\n",
    "    from intuitlib.enums import Scopes"
   ]
  },
  {
   "cell_type": "markdown",
   "id": "c9a72c9a-516c-4cf6-9229-356ce62bd494",
   "metadata": {
    "papermill": {},
    "tags": []
   },
   "source": [
    "### Setup Variables\n",
    "\n",
    "[Create your Quickbooks app and company](https://developer.intuit.com/app/developer/qbo/docs/get-started/start-developing-your-app)<br>\n",
    "[Create your personnal access tokens](https://developer.intuit.com/app/developer/playground)\n",
    "- `client_id`: Client ID from Quickbooks app\n",
    "- `client_secret`: Client Secret from Quickbooks app\n",
    "- `company_id`: Company id from the Quickbooks company you want to access (stored as `Realm ID` in the intuit playground)\n",
    "- `refresh_token`: Generated refresh token to access the Quickbooks API - To generate this token follow these steps:\n",
    "    - Once you've logged in to the [intuit developer playground](https://developer.intuit.com/app/developer/playground) select your app\n",
    "    - Select the scope for this access token and click \"Get authorization code\" the page should refresh\n",
    "    - Click the \"Get Tokens\" button and then on the right in the \"response\" box, copy the refresh_token  \n",
    "    The steps to get a refresh token should only need to be done the first time the secret needs to be generated\n",
    "- `environment`: Environment of your Quickbooks company (`sandbox` or `production`)\n",
    "- `limit`: Entries limit, to get all entries enter `None`"
   ]
  },
  {
   "cell_type": "code",
   "execution_count": 2,
   "id": "1146059a-d69a-46c6-877f-3b64cb3844b4",
   "metadata": {
    "execution": {
     "iopub.execute_input": "2023-09-05T20:06:32.596019Z",
     "iopub.status.busy": "2023-09-05T20:06:32.595690Z",
     "iopub.status.idle": "2023-09-05T20:06:33.025021Z",
     "shell.execute_reply": "2023-09-05T20:06:33.024201Z",
     "shell.execute_reply.started": "2023-09-05T20:06:32.595983Z"
    },
    "papermill": {},
    "tags": []
   },
   "outputs": [],
   "source": [
    "client_id = naas.secret.get(\"QUICKBOOKS_CLIENT_ID\") or \"YOUR_QUICKBOOKS_CLIENT_ID\"\n",
    "client_secret = naas.secret.get(\"QUICKBOOKS_CLIENT_SECRET\") or \"YOUR_QUICKBOOKS_CLIENT_SECRET\"\n",
    "company_id = naas.secret.get(\"QUICKBOOKS_COMPANY_ID\") or \"YOUR_QUICKBOOKS_COMPANY_ID\"\n",
    "refresh_token = naas.secret.get(\"QUICKBOOKS_REFRESH_TOKEN\") or \"YOUR_QUICKBOOKS_REFRESH_TOKEN\"\n",
    "environment = \"sandbox\"\n",
    "limit = None"
   ]
  },
  {
   "cell_type": "code",
   "execution_count": 3,
   "id": "12f623bd-304d-47fb-8364-d02011b0cb82",
   "metadata": {
    "execution": {
     "iopub.execute_input": "2023-09-05T20:06:34.925025Z",
     "iopub.status.busy": "2023-09-05T20:06:34.924693Z",
     "iopub.status.idle": "2023-09-05T20:06:36.181151Z",
     "shell.execute_reply": "2023-09-05T20:06:36.180502Z",
     "shell.execute_reply.started": "2023-09-05T20:06:34.924989Z"
    },
    "tags": []
   },
   "outputs": [],
   "source": [
    "auth_client = AuthClient(\n",
    "    client_id,\n",
    "    client_secret,\n",
    "    'https://developer.intuit.com/v2/OAuth2Playground/RedirectUrl',\n",
    "    environment, # sandbox or production\n",
    ")\n",
    "\n",
    "auth_client.refresh(refresh_token=refresh_token)"
   ]
  },
  {
   "cell_type": "markdown",
   "id": "b6e5afde-6a5b-4813-a4a9-280c34b68790",
   "metadata": {
    "papermill": {},
    "tags": []
   },
   "source": [
    "## Model"
   ]
  },
  {
   "cell_type": "markdown",
   "id": "18b5d596-5730-4755-acd0-bf83f9da5dcf",
   "metadata": {
    "papermill": {},
    "tags": []
   },
   "source": [
    "### List all invoices"
   ]
  },
  {
   "cell_type": "markdown",
   "id": "2bf3c5e8-1072-4c54-898a-7f5aa6cb9f40",
   "metadata": {
    "papermill": {},
    "tags": []
   },
   "source": [
    "This function will list all invoices from the Quickbooks API"
   ]
  },
  {
   "cell_type": "code",
   "execution_count": 4,
   "id": "3044b9c3-2ae0-432b-9227-24ed5d08c1d5",
   "metadata": {
    "execution": {
     "iopub.execute_input": "2023-09-05T20:06:36.703096Z",
     "iopub.status.busy": "2023-09-05T20:06:36.702862Z",
     "iopub.status.idle": "2023-09-05T20:06:36.711093Z",
     "shell.execute_reply": "2023-09-05T20:06:36.710388Z",
     "shell.execute_reply.started": "2023-09-05T20:06:36.703072Z"
    },
    "papermill": {},
    "tags": []
   },
   "outputs": [],
   "source": [
    "# Flatten the nested dict\n",
    "def flatten_dict(d, parent_key='', sep='/', num = ''):\n",
    "    \"\"\"\n",
    "    Flattens a nested dictionary into a single level dictionary.\n",
    "\n",
    "    Args:\n",
    "        d (dict): A nested dictionary.\n",
    "        parent_key (str): Optional string to prefix the keys with.\n",
    "        sep (str): Optional separator to use between parent_key and child_key.\n",
    "\n",
    "    Returns:\n",
    "        dict: A flattened dictionary.\n",
    "    \"\"\"\n",
    "    items = []\n",
    "    for k, v in d.items():\n",
    "        new_key = f\"{parent_key}{num}{sep}{k}\" if parent_key else k\n",
    "        if isinstance(v, dict):\n",
    "            items.extend(flatten_dict(v, new_key, sep=sep, num='').items())\n",
    "        elif isinstance(v, list):\n",
    "            for i in range(len(v)):\n",
    "                items.extend(flatten_dict(v[i], new_key, sep=sep, num= \"_\" + str(i + 1) ).items())\n",
    "        else:\n",
    "            items.append((new_key, v))\n",
    "    return dict(items)\n",
    "\n",
    "def list_invoices(access_token, company_id, limit=None):\n",
    "    \n",
    "    # Init\n",
    "    data = []\n",
    "    df = pd.DataFrame()\n",
    "    maxresults = ''\n",
    "    \n",
    "    # Requests\n",
    "    if limit:\n",
    "        maxresults = f\"maxresults {limit}\"\n",
    "    query = f\"select * from invoice startposition 1 {maxresults}\"\n",
    "    url = f'https://sandbox-quickbooks.api.intuit.com/v3/company/{company_id}/query?query={query}'\n",
    "    \n",
    "    headers = {\n",
    "        \"Authorization\": f\"Bearer {access_token}\",\n",
    "        \"Accept\": \"application/json\",\n",
    "        \"Content-Type\": \"application/text\",\n",
    "    }\n",
    "\n",
    "    res = requests.get(url, headers=headers)\n",
    "    if res.status_code == 200:\n",
    "        res_json = res.json()\n",
    "        queryResponse = res_json.get('QueryResponse')\n",
    "        invoices = queryResponse.get(\"Invoice\")\n",
    "\n",
    "        for invoice in invoices:\n",
    "            data.append(flatten_dict(invoice))\n",
    "\n",
    "    df = pd.DataFrame(data)\n",
    "    return df"
   ]
  },
  {
   "cell_type": "markdown",
   "id": "9fd9975b-2db5-4c00-916b-0e08f32d1668",
   "metadata": {
    "papermill": {},
    "tags": []
   },
   "source": [
    "## Output"
   ]
  },
  {
   "cell_type": "markdown",
   "id": "536197c4-3909-4b5e-a87f-346d07c32308",
   "metadata": {
    "papermill": {},
    "tags": []
   },
   "source": [
    "### Display result"
   ]
  },
  {
   "cell_type": "code",
   "execution_count": null,
   "id": "f312a847-d9e6-4481-aca9-61ada7f96fe4",
   "metadata": {
    "execution": {
     "iopub.execute_input": "2023-09-05T20:06:37.998424Z",
     "iopub.status.busy": "2023-09-05T20:06:37.997841Z",
     "iopub.status.idle": "2023-09-05T20:06:38.947941Z",
     "shell.execute_reply": "2023-09-05T20:06:38.947241Z",
     "shell.execute_reply.started": "2023-09-05T20:06:37.998375Z"
    },
    "papermill": {},
    "tags": []
   },
   "outputs": [],
   "source": [
    "df_invoices = list_invoices(\n",
    "    auth_client.access_token, \n",
    "    company_id, limit=limit\n",
    ")\n",
    "\n",
    "print(\"Row fetched:\", len(df_invoices))\n",
    "df_invoices.head()"
   ]
  },
  {
   "cell_type": "markdown",
   "id": "e2e7f2ab-673e-4c60-ab0a-7c1f6f09c2dc",
   "metadata": {
    "papermill": {},
    "tags": []
   },
   "source": [
    " "
   ]
  },
  {
   "cell_type": "code",
   "execution_count": null,
   "id": "9d99f3d4-849d-4383-8577-df8424516818",
   "metadata": {
    "papermill": {},
    "tags": []
   },
   "outputs": [],
   "source": []
  },
  {
   "cell_type": "code",
   "execution_count": null,
   "id": "49c97e4f-093e-43fb-b814-8a441968f7cb",
   "metadata": {},
   "outputs": [],
   "source": []
  }
 ],
 "metadata": {
  "kernelspec": {
   "display_name": "Python 3",
   "language": "python",
   "name": "python3"
  },
  "language_info": {
   "codemirror_mode": {
    "name": "ipython",
    "version": 3
   },
   "file_extension": ".py",
   "mimetype": "text/x-python",
   "name": "python",
   "nbconvert_exporter": "python",
   "pygments_lexer": "ipython3",
   "version": "3.9.6"
  },
  "naas": {
   "notebook_id": "dbd059d8bc4a12b38bd1d41128de9f4b6610c0048c178f8d96b57bb1d852f5b0",
   "notebook_path": "Harvest/Harvest_Filtered_time_entries.ipynb"
  },
  "papermill": {
   "default_parameters": {},
   "environment_variables": {},
   "parameters": {},
   "version": "2.4.0"
  },
  "widgets": {
   "application/vnd.jupyter.widget-state+json": {
    "state": {},
    "version_major": 2,
    "version_minor": 0
   }
  }
 },
 "nbformat": 4,
 "nbformat_minor": 5
}
